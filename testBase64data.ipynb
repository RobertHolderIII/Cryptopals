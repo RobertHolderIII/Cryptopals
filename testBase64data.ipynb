{
 "cells": [
  {
   "cell_type": "code",
   "execution_count": 29,
   "metadata": {},
   "outputs": [
    {
     "name": "stdout",
     "output_type": "stream",
     "text": [
      "txt='0123456789_0123456789_0123456789_0123456789_0123456789_0123456789_0123456789_0123456789_0123456789_0123456789'\n",
      "utf=b'0123456789_0123456789_0123456789_0123456789_0123456789_0123456789_0123456789_0123456789_0123456789_0123456789'\n",
      "len(utf)=109\n",
      "b64=b'MDEyMzQ1Njc4OV8wMTIzNDU2Nzg5XzAxMjM0NTY3ODlfMDEyMzQ1Njc4OV8wMTIzNDU2Nzg5XzAxMjM0NTY3ODlfMDEyMzQ1Njc4OV8wMTIzNDU2Nzg5XzAxMjM0NTY3ODlfMDEyMzQ1Njc4OQ=='\n",
      "len(b64)=148\n",
      "\n"
     ]
    }
   ],
   "source": [
    "import base64\n",
    "txt = '_'.join([''.join([str(i) for i in range(10)])] * 10)\n",
    "utf = txt.encode()\n",
    "b64 = base64.b64encode(utf)\n",
    "\n",
    "print(f\"\"\"{txt=}\n",
    "{utf=}\n",
    "{len(utf)=}\n",
    "{b64=}\n",
    "{len(b64)=}\n",
    "\"\"\")"
   ]
  },
  {
   "cell_type": "code",
   "execution_count": 30,
   "metadata": {},
   "outputs": [],
   "source": [
    "def repeated_key_xor(ptxt_bytes, key_bytes):\n",
    "    ctxt_bytes = []\n",
    "    key_i = 0\n",
    "    for pbyte in ptxt_bytes:\n",
    "        ctxt_bytes.append(pbyte ^ key_bytes[key_i])\n",
    "        key_i = (key_i + 1) % len(key_bytes)\n",
    "\n",
    "    out = ''\n",
    "    for cb in ctxt_bytes:\n",
    "        out += f'{cb:02x}'\n",
    "    return out"
   ]
  },
  {
   "cell_type": "code",
   "execution_count": 33,
   "metadata": {},
   "outputs": [
    {
     "data": {
      "text/plain": [
       "'787e62607c7a666470760f63797d63677d79676b711060627a7c64667e78686a177f61617b7b65657f77690c787e62607c7a666470760f63797d63677d79676b711060627a7c64667e78686a177f61617b7b65657f77690c787e62607c7a666470760f63797d63677d79676b71'"
      ]
     },
     "execution_count": 33,
     "metadata": {},
     "output_type": "execute_result"
    }
   ],
   "source": [
    "key = 'HOPS'\n",
    "ctxt = repeated_key_xor(utf, key.encode())\n",
    "ctxt"
   ]
  },
  {
   "cell_type": "markdown",
   "metadata": {},
   "source": [
    "### debugging"
   ]
  },
  {
   "cell_type": "code",
   "execution_count": 75,
   "metadata": {},
   "outputs": [
    {
     "data": {
      "text/plain": [
       "b'0123456789_0123456789_0123456789_0123456789_0123456789_0123456789_0123456789_0123456789_0123456789_0123456789'"
      ]
     },
     "execution_count": 75,
     "metadata": {},
     "output_type": "execute_result"
    }
   ],
   "source": [
    "ptxt_bytes"
   ]
  },
  {
   "cell_type": "code",
   "execution_count": 79,
   "metadata": {},
   "outputs": [
    {
     "data": {
      "text/plain": [
       "'0x7c'"
      ]
     },
     "execution_count": 79,
     "metadata": {},
     "output_type": "execute_result"
    }
   ],
   "source": [
    "hex(ord('4') ^ ord('H'))"
   ]
  },
  {
   "cell_type": "markdown",
   "metadata": {},
   "source": [
    "### end debugging"
   ]
  },
  {
   "cell_type": "code",
   "execution_count": 34,
   "metadata": {},
   "outputs": [
    {
     "data": {
      "text/plain": [
       "b'x~b`|zfdpv\\x0fcy}cg}ygkq\\x10`bz|df~xhj\\x17\\x7faa{{ee\\x7fwi\\x0cx~b`|zfdpv\\x0fcy}cg}ygkq\\x10`bz|df~xhj\\x17\\x7faa{{ee\\x7fwi\\x0cx~b`|zfdpv\\x0fcy}cg}ygkq'"
      ]
     },
     "execution_count": 34,
     "metadata": {},
     "output_type": "execute_result"
    }
   ],
   "source": [
    "ctxt_bytes = bytes.fromhex(ctxt)\n",
    "ctxt_bytes"
   ]
  },
  {
   "cell_type": "code",
   "execution_count": 37,
   "metadata": {},
   "outputs": [
    {
     "data": {
      "text/plain": [
       "'303132333435363738395f303132333435363738395f303132333435363738395f303132333435363738395f303132333435363738395f303132333435363738395f303132333435363738395f303132333435363738395f303132333435363738395f30313233343536373839'"
      ]
     },
     "execution_count": 37,
     "metadata": {},
     "output_type": "execute_result"
    }
   ],
   "source": [
    "repeated_key_xor(ctxt_bytes, key.encode())"
   ]
  },
  {
   "cell_type": "code",
   "execution_count": 38,
   "metadata": {},
   "outputs": [
    {
     "data": {
      "text/plain": [
       "'0123456789_0123456789_0123456789_0123456789_0123456789_0123456789_0123456789_0123456789_0123456789_0123456789'"
      ]
     },
     "execution_count": 38,
     "metadata": {},
     "output_type": "execute_result"
    }
   ],
   "source": [
    "bytes.fromhex(repeated_key_xor(ctxt_bytes, key.encode())).decode()"
   ]
  },
  {
   "cell_type": "code",
   "execution_count": 39,
   "metadata": {},
   "outputs": [
    {
     "data": {
      "text/plain": [
       "b'0123456789_0123456789_0123456789_0123456789_0123456789_0123456789_0123456789_0123456789_0123456789_0123456789'"
      ]
     },
     "execution_count": 39,
     "metadata": {},
     "output_type": "execute_result"
    }
   ],
   "source": [
    "ptxt_bytes = bytes.fromhex(repeated_key_xor(ctxt_bytes, key.encode()))\n",
    "ptxt_bytes"
   ]
  },
  {
   "cell_type": "code",
   "execution_count": 53,
   "metadata": {},
   "outputs": [],
   "source": [
    "def break_into_blocks(data, block_size):\n",
    "    data_blocks = []\n",
    "    for start in range(0,len(data),block_size):\n",
    "        data_blocks.append(data[start:start+block_size])\n",
    "    return data_blocks\n",
    "\n",
    "def transpose_block(data_blocks, block_size):\n",
    "    data_blocks_T = []\n",
    "    for idx in range(block_size):\n",
    "        block_T = []\n",
    "        last_block = False\n",
    "        for block in data_blocks:\n",
    "            assert not last_block, f'only last block may have missing entries.  found non-final block with less than {block_size=} entries'\n",
    "            if idx < len(block):\n",
    "                block_T.append(block[idx])\n",
    "            else:\n",
    "                # should not be any more blocks after this one\n",
    "                last_block=True\n",
    "        data_blocks_T.append(block_T)\n",
    "    return data_blocks_T"
   ]
  },
  {
   "cell_type": "code",
   "execution_count": 54,
   "metadata": {},
   "outputs": [
    {
     "data": {
      "text/plain": [
       "[b'x~b`',\n",
       " b'|zfd',\n",
       " b'pv\\x0fc',\n",
       " b'y}cg',\n",
       " b'}ygk',\n",
       " b'q\\x10`b',\n",
       " b'z|df',\n",
       " b'~xhj',\n",
       " b'\\x17\\x7faa',\n",
       " b'{{ee',\n",
       " b'\\x7fwi\\x0c',\n",
       " b'x~b`',\n",
       " b'|zfd',\n",
       " b'pv\\x0fc',\n",
       " b'y}cg',\n",
       " b'}ygk',\n",
       " b'q\\x10`b',\n",
       " b'z|df',\n",
       " b'~xhj',\n",
       " b'\\x17\\x7faa',\n",
       " b'{{ee',\n",
       " b'\\x7fwi\\x0c',\n",
       " b'x~b`',\n",
       " b'|zfd',\n",
       " b'pv\\x0fc',\n",
       " b'y}cg',\n",
       " b'}ygk',\n",
       " b'q']"
      ]
     },
     "execution_count": 54,
     "metadata": {},
     "output_type": "execute_result"
    }
   ],
   "source": [
    "ctxt_blocks = break_into_blocks(ctxt_bytes, len(key))\n",
    "ctxt_blocks"
   ]
  },
  {
   "cell_type": "code",
   "execution_count": 57,
   "metadata": {},
   "outputs": [
    {
     "data": {
      "text/plain": [
       "['x|py}qz~\\x17{\\x7fx|py}qz~\\x17{\\x7fx|py}q',\n",
       " '~zv}y\\x10|x\\x7f{w~zv}y\\x10|x\\x7f{w~zv}y',\n",
       " 'bf\\x0fcg`dhaeibf\\x0fcg`dhaeibf\\x0fcg',\n",
       " '`dcgkbfjae\\x0c`dcgkbfjae\\x0c`dcgk']"
      ]
     },
     "execution_count": 57,
     "metadata": {},
     "output_type": "execute_result"
    }
   ],
   "source": [
    "ctxt_blocks_T = transpose_block(ctxt_blocks, len(key))\n",
    "[''.join([chr(i) for i in ls]) for ls in ctxt_blocks_T]\n"
   ]
  },
  {
   "cell_type": "code",
   "execution_count": 59,
   "metadata": {},
   "outputs": [
    {
     "data": {
      "text/plain": [
       "['787c70797d717a7e177b7f787c70797d717a7e177b7f787c70797d71',\n",
       " '7e7a767d79107c787f7b777e7a767d79107c787f7b777e7a767d79',\n",
       " '62660f636760646861656962660f636760646861656962660f6367',\n",
       " '606463676b62666a61650c606463676b62666a61650c606463676b']"
      ]
     },
     "execution_count": 59,
     "metadata": {},
     "output_type": "execute_result"
    }
   ],
   "source": [
    "ctxt_blocks_T_hex = [''.join([f'{i:02x}' for i in ls]) for ls in ctxt_blocks_T]\n",
    "ctxt_blocks_T_hex"
   ]
  },
  {
   "cell_type": "code",
   "execution_count": 60,
   "metadata": {},
   "outputs": [
    {
     "data": {
      "text/plain": [
       "b'x|py}qz~\\x17{\\x7fx|py}qz~\\x17{\\x7fx|py}q'"
      ]
     },
     "execution_count": 60,
     "metadata": {},
     "output_type": "execute_result"
    }
   ],
   "source": [
    "b = bytes.fromhex(ctxt_blocks_T_hex[0])\n",
    "b"
   ]
  },
  {
   "cell_type": "code",
   "execution_count": 64,
   "metadata": {},
   "outputs": [
    {
     "data": {
      "text/plain": [
       "[120,\n",
       " 124,\n",
       " 112,\n",
       " 121,\n",
       " 125,\n",
       " 113,\n",
       " 122,\n",
       " 126,\n",
       " 23,\n",
       " 123,\n",
       " 127,\n",
       " 120,\n",
       " 124,\n",
       " 112,\n",
       " 121,\n",
       " 125,\n",
       " 113,\n",
       " 122,\n",
       " 126,\n",
       " 23,\n",
       " 123,\n",
       " 127,\n",
       " 120,\n",
       " 124,\n",
       " 112,\n",
       " 121,\n",
       " 125,\n",
       " 113]"
      ]
     },
     "execution_count": 64,
     "metadata": {},
     "output_type": "execute_result"
    }
   ],
   "source": [
    "ctxt_blocks_T[0]"
   ]
  },
  {
   "cell_type": "code",
   "execution_count": 92,
   "metadata": {},
   "outputs": [
    {
     "data": {
      "text/plain": [
       "[48,\n",
       " 52,\n",
       " 56,\n",
       " 49,\n",
       " 53,\n",
       " 57,\n",
       " 50,\n",
       " 54,\n",
       " 95,\n",
       " 51,\n",
       " 55,\n",
       " 48,\n",
       " 52,\n",
       " 56,\n",
       " 49,\n",
       " 53,\n",
       " 57,\n",
       " 50,\n",
       " 54,\n",
       " 95,\n",
       " 51,\n",
       " 55,\n",
       " 48,\n",
       " 52,\n",
       " 56,\n",
       " 49,\n",
       " 53,\n",
       " 57]"
      ]
     },
     "execution_count": 92,
     "metadata": {},
     "output_type": "execute_result"
    }
   ],
   "source": [
    "[i^ord('H') for i in ctxt_blocks_T[0]]"
   ]
  },
  {
   "cell_type": "code",
   "execution_count": 95,
   "metadata": {},
   "outputs": [
    {
     "data": {
      "text/plain": [
       "72"
      ]
     },
     "execution_count": 95,
     "metadata": {},
     "output_type": "execute_result"
    }
   ],
   "source": [
    "int('H'.encode().hex(),16)"
   ]
  },
  {
   "cell_type": "code",
   "execution_count": 99,
   "metadata": {},
   "outputs": [
    {
     "name": "stdout",
     "output_type": "stream",
     "text": [
      "04815926_3704815926_37048159\n",
      "15926_3704815926_3704815926\n",
      "26_3704815926_3704815926_37\n",
      "3704815926_3704815926_37048\n"
     ]
    }
   ],
   "source": [
    "for block_i in range(len(key)):\n",
    "    print(''.join([chr(i ^ ord(key[block_i])) for i in ctxt_blocks_T[block_i]]))"
   ]
  },
  {
   "cell_type": "code",
   "execution_count": 74,
   "metadata": {},
   "outputs": [
    {
     "data": {
      "text/plain": [
       "'0x30'"
      ]
     },
     "execution_count": 74,
     "metadata": {},
     "output_type": "execute_result"
    }
   ],
   "source": [
    "hex( ord('0') ^ ord('H') ^ ord('H'))"
   ]
  },
  {
   "cell_type": "code",
   "execution_count": null,
   "metadata": {},
   "outputs": [],
   "source": []
  }
 ],
 "metadata": {
  "kernelspec": {
   "display_name": "Python 3",
   "language": "python",
   "name": "python3"
  },
  "language_info": {
   "codemirror_mode": {
    "name": "ipython",
    "version": 3
   },
   "file_extension": ".py",
   "mimetype": "text/x-python",
   "name": "python",
   "nbconvert_exporter": "python",
   "pygments_lexer": "ipython3",
   "version": "3.8.3"
  }
 },
 "nbformat": 4,
 "nbformat_minor": 4
}
