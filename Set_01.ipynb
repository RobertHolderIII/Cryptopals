{
 "cells": [
  {
   "cell_type": "markdown",
   "metadata": {},
   "source": [
    "### Challenge 1"
   ]
  },
  {
   "cell_type": "code",
   "execution_count": 3,
   "metadata": {},
   "outputs": [
    {
     "name": "stdout",
     "output_type": "stream",
     "text": [
      "decoded_str_bytes=b\"I'm killing your brain like a poisonous mushroom\"\n",
      "decoded_str_bytes.decode(\"utf-8\")=\"I'm killing your brain like a poisonous mushroom\"\n",
      "b64=b'SSdtIGtpbGxpbmcgeW91ciBicmFpbiBsaWtlIGEgcG9pc29ub3VzIG11c2hyb29t'\n",
      "base64string='SSdtIGtpbGxpbmcgeW91ciBicmFpbiBsaWtlIGEgcG9pc29ub3VzIG11c2hyb29t'\n"
     ]
    }
   ],
   "source": [
    "# challenge 1\n",
    "\n",
    "# instructions are unclear...\n",
    "\n",
    "import base64\n",
    "from base64 import b64encode \n",
    "import binascii\n",
    "\n",
    "# Convert hex to base64\n",
    "# indicates this string to be converted to base64\n",
    "myHex = '49276d206b696c6c696e6720796f757220627261696e206c696b65206120706f69736f6e6f7573206d757368726f6f6d'\n",
    "targetBase64 = 'SSdtIGtpbGxpbmcgeW91ciBicmFpbiBsaWtlIGEgcG9pc29ub3VzIG11c2hyb29t'\n",
    "\n",
    "\n",
    "# This is not \"a string\"; it is a hex-encoded string.  I thought it was a string representing hex data.\n",
    "\n",
    "# So insted we decode the string and convert that string to base64\n",
    "\n",
    "# parse hex string into sequence of bytes\n",
    "decoded_str_bytes = bytes.fromhex(myHex)\n",
    "print(f'{decoded_str_bytes=}')\n",
    "print(f'{decoded_str_bytes.decode(\"utf-8\")=}')\n",
    "\n",
    "b64 = b64encode(decoded_str_bytes)\n",
    "print(f'{b64=}')\n",
    "\n",
    "base64string = b64.decode('utf-8')\n",
    "print(f'{base64string=}')\n",
    "\n",
    "assert targetBase64 == base64string, base64string\n"
   ]
  },
  {
   "cell_type": "markdown",
   "metadata": {},
   "source": [
    "### Challenge 2"
   ]
  },
  {
   "cell_type": "code",
   "execution_count": 30,
   "metadata": {},
   "outputs": [
    {
     "data": {
      "text/plain": [
       "\"the kid don't play\""
      ]
     },
     "execution_count": 30,
     "metadata": {},
     "output_type": "execute_result"
    }
   ],
   "source": [
    "# challenge 2\n",
    "# this time what the challenge calls a string is actually a hex value.\n",
    "\n",
    "# string to int type conversions\n",
    "s1 = int('1c0111001f010100061a024b53535009181c', 16)\n",
    "s2 = int('686974207468652062756c6c277320657965', 16)\n",
    "\n",
    "target = '746865206b696420646f6e277420706c6179'\n",
    "\n",
    "# do the xor, convert int to string\n",
    "candidate = f'{s1^s2:x}'\n",
    "\n",
    "assert target == candidate, candidate\n",
    "\n",
    "# treat hex values as ascii values and map to characters\n",
    "bytes.fromhex(target).decode('utf-8')\n"
   ]
  },
  {
   "cell_type": "markdown",
   "metadata": {},
   "source": [
    "### Challenge 3"
   ]
  },
  {
   "cell_type": "code",
   "execution_count": 108,
   "metadata": {},
   "outputs": [
    {
     "name": "stdout",
     "output_type": "stream",
     "text": [
      "num_bytes=34\n",
      "b'\\x1b77316?x\\x15\\x1b\\x7f+x413=x9x(7-6<x7>x:9;76'\n"
     ]
    }
   ],
   "source": [
    "# from the start, the instructions are much more precise\n",
    "encrypted = '1b37373331363f78151b7f2b783431333d78397828372d363c78373e783a393b3736'\n",
    "encrypted_bytes = bytes.fromhex(encrypted)\n",
    "num_bytes = len(encrypted_bytes)\n",
    "print(f'{num_bytes=}')\n",
    "encrypted_hex = int(encrypted, 16)\n",
    "print(encrypted_bytes)"
   ]
  },
  {
   "cell_type": "code",
   "execution_count": 103,
   "metadata": {},
   "outputs": [
    {
     "data": {
      "text/plain": [
       "6"
      ]
     },
     "execution_count": 103,
     "metadata": {},
     "output_type": "execute_result"
    }
   ],
   "source": [
    "from collections import Counter\n",
    "import string\n",
    "\n",
    "vocab = string.ascii_lowercase + ' '# + string.ascii_uppercase\n",
    "def english_score(txt):\n",
    "    counter = Counter(txt)\n",
    "    \n",
    "    # txt gets a point for common alphabetic characters\n",
    "    most = counter.most_common()\n",
    "    score = sum(1 if tup[0] in vocab else -1 for tup in most)\n",
    "    return score\n",
    "\n",
    "def english_score2(txt):\n",
    "    counter = Counter(txt)\n",
    "    \n",
    "    # txt gets a point for common alphabetic characters\n",
    "    most = counter.most_common()\n",
    "    score = sum(val*tup[1] if tup[0] in vocab else -val*tup[1] \n",
    "                for tup, val in zip(most,range(len(most),1,-1)))\n",
    "    return score\n",
    "\n",
    "english_score2('aaa;')"
   ]
  },
  {
   "cell_type": "code",
   "execution_count": 133,
   "metadata": {},
   "outputs": [],
   "source": [
    "\n",
    "\n",
    "def decrypt_using_single_byte(encrypted_txt):\n",
    "    encrypted_bytes = bytes.fromhex(encrypted)\n",
    "    num_bytes = len(encrypted_bytes)\n",
    "    #print(f'{num_bytes=}')\n",
    "    encrypted_hex = int(encrypted, 16)\n",
    "    #print(encrypted_bytes)\n",
    "\n",
    "    scores = []\n",
    "    scores2 = []\n",
    "    \n",
    "    for single_byte in range(0,256):\n",
    "        #print()\n",
    "        #print(f'{single_byte=:x}')\n",
    "\n",
    "\n",
    "        ######\n",
    "        # This doesn't work because UTF-8 encoding becomes\n",
    "        # two bytes for codes above 127\n",
    "        # turn string to bytes, to hex string, to int\n",
    "        ######\n",
    "        #key = chr(single_byte)*num_bytes\n",
    "        #print(f'{key=}')\n",
    "        #keyHex = int(key.encode('utf-8').hex(), 16)\n",
    "\n",
    "        ######\n",
    "        # Instead, construct the bytes directly\n",
    "        ######\n",
    "        key = [single_byte] * num_bytes\n",
    "        keyHex = int(bytes(key).hex(), 16)\n",
    "\n",
    "\n",
    "        #print(f'{keyHex=}')\n",
    "        #print(f'{len(str(keyHex))=}')\n",
    "\n",
    "        decrypted_hex = encrypted_hex ^ keyHex\n",
    "        #print(decrypted_hex)\n",
    "\n",
    "        # ensure the length of the hex string matches the length of the\n",
    "        # encrypted bytes, otherwise leading 0s get dropped and cause exceptions\n",
    "        decrypted_hex_str = f'{decrypted_hex:0{num_bytes*2}x}'\n",
    "        #print(f'{decrypted_hex_str=}')\n",
    "        #print(f'{len(decrypted_hex_str)=}')\n",
    "\n",
    "        ######\n",
    "        # For the same reason above, converting to a hex string and\n",
    "        # decoding as utf-8 doesn't work\n",
    "        ######\n",
    "        #ptxt = bytes.fromhex(decrypted_hex_str).decode('utf-8')\n",
    "\n",
    "\n",
    "        ptxt_bytes = bytes.fromhex(decrypted_hex_str)\n",
    "        ptxt = ''\n",
    "        for b in ptxt_bytes:\n",
    "            ptxt += chr(b)\n",
    "        #print(f'{ptxt=}')\n",
    "\n",
    "\n",
    "        scores.append((ptxt, english_score(ptxt)))\n",
    "        scores2.append((ptxt, english_score2(ptxt)))\n",
    "        \n",
    "    def sorter(i):\n",
    "        return i[1]\n",
    "    scores.sort(key=sorter, reverse=True)\n",
    "    scores2.sort(key=sorter, reverse=True)\n",
    "\n",
    "    return scores[0], scores, scores2"
   ]
  },
  {
   "cell_type": "code",
   "execution_count": 134,
   "metadata": {},
   "outputs": [
    {
     "name": "stdout",
     "output_type": "stream",
     "text": [
      "(\"Cooking MC's like a pound of bacon\", 13)\n",
      "(\"Dhhlni`'JD t'knlb'f'whric'ha'efdhi\", 11)\n",
      "('Ieeacdm*GI-y*fcao*k*ze\\x7fdn*el*hkied', 9)\n",
      "('Bnnjhof!LB&r!mhjd!`!qntoe!ng!c`bno', 9)\n",
      "('Ammikle\"OA%q\"nkig\"c\"rmwlf\"md\"`caml', 9)\n",
      "('@llhjmd#N@$p#ojhf#b#slvmg#le#ab`lm', 9)\n",
      "('Gkkomjc$IG#w$hmoa$e$tkqj`$kb$fegkj', 9)\n",
      "('Fjjnlkb%HF\"v%iln`%d%ujpka%jc%gdfjk', 9)\n",
      "('Eiimoha&KE!u&jomc&g&vishb&i`&dgeih', 9)\n",
      "('Uyy}\\x7fxq6[U1e6z\\x7f}s6w6fycxr6yp6twuyx', 7)\n",
      "\n",
      "(\"Cooking MC's like a pound of bacon\", 342)\n",
      "('@llhjmd#N@$p#ojhf#b#slvmg#le#ab`lm', 114)\n",
      "('Ammikle\"OA%q\"nkig\"c\"rmwlf\"md\"`caml', 110)\n",
      "(\"Dhhlni`'JD t'knlb'f'whric'ha'efdhi\", 110)\n",
      "('Eiimoha&KE!u&jomc&g&vishb&i`&dgeih', 108)\n",
      "('Gkkomjc$IG#w$hmoa$e$tkqj`$kb$fegkj', 106)\n",
      "('Ieeacdm*GI-y*fcao*k*ze\\x7fdn*el*hkied', 104)\n",
      "('Fjjnlkb%HF\"v%iln`%d%ujpka%jc%gdfjk', 100)\n",
      "('Kggcafo(EK/{(dacm(i(xg}fl(gn(jikgf', 86)\n",
      "('Nbbfdcj-@N*~-adfh-l-}bxci-bk-olnbc', 84)\n"
     ]
    }
   ],
   "source": [
    "encrypted = '1b37373331363f78151b7f2b783431333d78397828372d363c78373e783a393b3736'\n",
    "_, scores, scores2 = decrypt_using_single_byte(encrypted)\n",
    "\n",
    "for tup in scores[:10]:\n",
    "    print(tup)\n",
    "print()\n",
    "for tup in scores2[:10]:\n",
    "    print(tup)\n",
    "    "
   ]
  },
  {
   "cell_type": "markdown",
   "metadata": {},
   "source": [
    "### Challenge 4"
   ]
  },
  {
   "cell_type": "code",
   "execution_count": 135,
   "metadata": {},
   "outputs": [
    {
     "name": "stdout",
     "output_type": "stream",
     "text": [
      "('Now that the party is jumping\\n', 15)\n"
     ]
    }
   ],
   "source": [
    "top_res = (None,0)\n",
    "with open('4.txt') as f:\n",
    "    for encrypted in f:\n",
    "        res, _, _ = decrypt_using_single_byte(encrypted)\n",
    "        if res[1] > top_res[1]:\n",
    "            top_res = res\n",
    "\n",
    "print(top_res)"
   ]
  },
  {
   "cell_type": "markdown",
   "metadata": {},
   "source": [
    "### Challenge 5"
   ]
  },
  {
   "cell_type": "code",
   "execution_count": 150,
   "metadata": {},
   "outputs": [
    {
     "data": {
      "text/plain": [
       "'I'"
      ]
     },
     "execution_count": 150,
     "metadata": {},
     "output_type": "execute_result"
    }
   ],
   "source": [
    "chr(73)"
   ]
  },
  {
   "cell_type": "code",
   "execution_count": 180,
   "metadata": {},
   "outputs": [
    {
     "name": "stdout",
     "output_type": "stream",
     "text": [
      "[\"Burning 'em, if you ain't quick and nimble\\nI go crazy when I hear a cymbal\"]\n",
      "[66, 117, 114, 110, 105, 110, 103, 32, 39, 101, 109, 44, 32, 105, 102, 32, 121, 111, 117, 32, 97, 105, 110, 39, 116, 32, 113, 117, 105, 99, 107, 32, 97, 110, 100, 32, 110, 105, 109, 98, 108, 101, 10, 73, 32, 103, 111, 32, 99, 114, 97, 122, 121, 32, 119, 104, 101, 110, 32, 73, 32, 104, 101, 97, 114, 32, 97, 32, 99, 121, 109, 98, 97, 108]\n",
      "0b36 0b36\n",
      "3727 3727\n",
      "2a2b 2a2b\n",
      "2e63 2e63\n",
      "622c 622c\n",
      "2e69 2e69\n",
      "692a 692a\n",
      "2369 2369\n",
      "3a2a 3a2a\n",
      "3c63 3c63\n",
      "2420 2420\n",
      "2d62 2d62\n",
      "3d63 3d63\n",
      "343c 343c\n",
      "2a26 2a26\n",
      "2263 2263\n",
      "2427 2427\n",
      "2765 2765\n",
      "272a 272a\n",
      "282b 282b\n",
      "2f20 2f20\n",
      "430a 430a\n",
      "652e 652e\n",
      "2c65 2c65\n",
      "2a31 2a31\n",
      "2433 2433\n",
      "3a65 3a65\n",
      "3e2b 3e2b\n",
      "2027 2027\n",
      "630c 630c\n",
      "692b 692b\n",
      "2028 2028\n",
      "3165 3165\n",
      "2863 2863\n",
      "2630 2630\n",
      "2e27 2e27\n",
      "282f 282f\n"
     ]
    }
   ],
   "source": [
    "### Questionable instructions again.  The space at the end of the first line is NOT encrypted, but the carriage return is.  However,\n",
    "### the carriage return in the expected encryption should be ignored.  That is, there is no one-to-mapping between the plaintext lines\n",
    "### and the encrypted lines.  Would have been clearer if the expected encryption was presented as a single line of text.\n",
    "ptxt_ls = [\"\"\"Burning 'em, if you ain't quick and nimble\n",
    "I go crazy when I hear a cymbal\"\"\"]\n",
    "key = \"ICE\"\n",
    "expected = [\n",
    "    \"0b3637272a2b2e63622c2e69692a23693a2a3c6324202d623d63343c2a26226324272765272a282b2f20430a652e2c652a3124333a653e2b2027630c692b20283165286326302e27282f\"\n",
    "]\n",
    "print(ptxt_ls)\n",
    "\n",
    "ptxt_bytes = [ord(c) for ptxt in ptxt_ls for c in ptxt ]\n",
    "print(ptxt_bytes)\n",
    "\n",
    "key_bytes = [ord(c) for c in key]\n",
    "\n",
    "ctxt_bytes = []\n",
    "\n",
    "key_i = 0\n",
    "for ptxt in ptxt_ls:\n",
    "    \n",
    "    ctxt_split = []\n",
    "    for pbyte in ptxt_bytes:\n",
    "        ctxt_split.append(pbyte ^ key_bytes[key_i])\n",
    "        key_i = (key_i + 1) % len(key_bytes)\n",
    "    ctxt_bytes.append(ctxt_split)\n",
    "\n",
    "out = []\n",
    "for split in ctxt_bytes:\n",
    "    out_split = ''\n",
    "    for cb in split:\n",
    "        out_split += f'{cb:02x}'\n",
    "    out.append(out_split)\n",
    "\n",
    "#for i,e in enumerate(expected):\n",
    "#    assert e == out[i], out[i]\n",
    "    \n",
    "\n",
    "    \n",
    "\n",
    "\n"
   ]
  },
  {
   "cell_type": "code",
   "execution_count": 178,
   "metadata": {},
   "outputs": [
    {
     "data": {
      "text/plain": [
       "(148, 75)"
      ]
     },
     "execution_count": 178,
     "metadata": {},
     "output_type": "execute_result"
    }
   ],
   "source": [
    "len(expected[0]), len(ptxt_ls[0])"
   ]
  },
  {
   "cell_type": "code",
   "execution_count": 173,
   "metadata": {},
   "outputs": [
    {
     "data": {
      "text/plain": [
       "'0x65'"
      ]
     },
     "execution_count": 173,
     "metadata": {},
     "output_type": "execute_result"
    }
   ],
   "source": [
    "hex(ord(' ') ^ ord('E'))"
   ]
  },
  {
   "cell_type": "code",
   "execution_count": 175,
   "metadata": {},
   "outputs": [
    {
     "data": {
      "text/plain": [
       "'r'"
      ]
     },
     "execution_count": 175,
     "metadata": {},
     "output_type": "execute_result"
    }
   ],
   "source": [
    "chr(0x72)"
   ]
  },
  {
   "cell_type": "code",
   "execution_count": 176,
   "metadata": {},
   "outputs": [
    {
     "data": {
      "text/plain": [
       "'0xd'"
      ]
     },
     "execution_count": 176,
     "metadata": {},
     "output_type": "execute_result"
    }
   ],
   "source": [
    "hex(13)"
   ]
  },
  {
   "cell_type": "code",
   "execution_count": null,
   "metadata": {},
   "outputs": [],
   "source": []
  }
 ],
 "metadata": {
  "kernelspec": {
   "display_name": "Python 3",
   "language": "python",
   "name": "python3"
  },
  "language_info": {
   "codemirror_mode": {
    "name": "ipython",
    "version": 3
   },
   "file_extension": ".py",
   "mimetype": "text/x-python",
   "name": "python",
   "nbconvert_exporter": "python",
   "pygments_lexer": "ipython3",
   "version": "3.8.3"
  }
 },
 "nbformat": 4,
 "nbformat_minor": 4
}
