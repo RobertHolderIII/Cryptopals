{
 "cells": [
  {
   "cell_type": "markdown",
   "metadata": {},
   "source": [
    "### Challenge 1"
   ]
  },
  {
   "cell_type": "code",
   "execution_count": 3,
   "metadata": {},
   "outputs": [
    {
     "name": "stdout",
     "output_type": "stream",
     "text": [
      "decoded_str_bytes=b\"I'm killing your brain like a poisonous mushroom\"\n",
      "decoded_str_bytes.decode(\"utf-8\")=\"I'm killing your brain like a poisonous mushroom\"\n",
      "b64=b'SSdtIGtpbGxpbmcgeW91ciBicmFpbiBsaWtlIGEgcG9pc29ub3VzIG11c2hyb29t'\n",
      "base64string='SSdtIGtpbGxpbmcgeW91ciBicmFpbiBsaWtlIGEgcG9pc29ub3VzIG11c2hyb29t'\n"
     ]
    }
   ],
   "source": [
    "# challenge 1\n",
    "\n",
    "# instructions are unclear...\n",
    "\n",
    "import base64\n",
    "from base64 import b64encode \n",
    "import binascii\n",
    "\n",
    "# Convert hex to base64\n",
    "# indicates this string to be converted to base64\n",
    "myHex = '49276d206b696c6c696e6720796f757220627261696e206c696b65206120706f69736f6e6f7573206d757368726f6f6d'\n",
    "targetBase64 = 'SSdtIGtpbGxpbmcgeW91ciBicmFpbiBsaWtlIGEgcG9pc29ub3VzIG11c2hyb29t'\n",
    "\n",
    "\n",
    "# This is not \"a string\"; it is a hex-encoded string.  I thought it was a string representing hex data.\n",
    "\n",
    "# So insted we decode the string and convert that string to base64\n",
    "\n",
    "# parse hex string into sequence of bytes\n",
    "decoded_str_bytes = bytes.fromhex(myHex)\n",
    "print(f'{decoded_str_bytes=}')\n",
    "print(f'{decoded_str_bytes.decode(\"utf-8\")=}')\n",
    "\n",
    "b64 = b64encode(decoded_str_bytes)\n",
    "print(f'{b64=}')\n",
    "\n",
    "base64string = b64.decode('utf-8')\n",
    "print(f'{base64string=}')\n",
    "\n",
    "assert targetBase64 == base64string, base64string\n"
   ]
  },
  {
   "cell_type": "markdown",
   "metadata": {},
   "source": [
    "### Challenge 2"
   ]
  },
  {
   "cell_type": "code",
   "execution_count": 30,
   "metadata": {},
   "outputs": [
    {
     "data": {
      "text/plain": [
       "\"the kid don't play\""
      ]
     },
     "execution_count": 30,
     "metadata": {},
     "output_type": "execute_result"
    }
   ],
   "source": [
    "# challenge 2\n",
    "# this time what the challenge calls a string is actually a hex value.\n",
    "\n",
    "# string to int type conversions\n",
    "s1 = int('1c0111001f010100061a024b53535009181c', 16)\n",
    "s2 = int('686974207468652062756c6c277320657965', 16)\n",
    "\n",
    "target = '746865206b696420646f6e277420706c6179'\n",
    "\n",
    "# do the xor, convert int to string\n",
    "candidate = f'{s1^s2:x}'\n",
    "\n",
    "assert target == candidate, candidate\n",
    "\n",
    "# treat hex values as ascii values and map to characters\n",
    "bytes.fromhex(target).decode('utf-8')\n"
   ]
  },
  {
   "cell_type": "markdown",
   "metadata": {},
   "source": [
    "### Challenge 3"
   ]
  },
  {
   "cell_type": "code",
   "execution_count": 71,
   "metadata": {},
   "outputs": [],
   "source": [
    "# from the start, the instructions are much more precise\n",
    "encrypted = '1b37373331363f78151b7f2b783431333d78397828372d363c78373e783a393b3736'\n",
    "encrypted_bytes = bytes.fromhex(encrypted)\n",
    "num_bytes = len(encrypted_bytes)\n",
    "encrypted_hex = int(encrypted, 16)\n",
    "print(encrypted_bytes)"
   ]
  },
  {
   "cell_type": "code",
   "execution_count": 103,
   "metadata": {},
   "outputs": [
    {
     "data": {
      "text/plain": [
       "6"
      ]
     },
     "execution_count": 103,
     "metadata": {},
     "output_type": "execute_result"
    }
   ],
   "source": [
    "from collections import Counter\n",
    "import string\n",
    "\n",
    "vocab = string.ascii_lowercase + ' '# + string.ascii_uppercase\n",
    "def english_score(txt):\n",
    "    counter = Counter(txt)\n",
    "    \n",
    "    # txt gets a point for common alphabetic characters\n",
    "    most = counter.most_common()\n",
    "    score = sum(1 if tup[0] in vocab else -1 for tup in most)\n",
    "    return score\n",
    "\n",
    "def english_score2(txt):\n",
    "    counter = Counter(txt)\n",
    "    \n",
    "    # txt gets a point for common alphabetic characters\n",
    "    most = counter.most_common()\n",
    "    score = sum(val*tup[1] if tup[0] in vocab else -val*tup[1] \n",
    "                for tup, val in zip(most,range(len(most),1,-1)))\n",
    "    return score\n",
    "\n",
    "english_score2('aaa;')"
   ]
  },
  {
   "cell_type": "code",
   "execution_count": 104,
   "metadata": {},
   "outputs": [
    {
     "ename": "UnicodeDecodeError",
     "evalue": "'utf-8' codec can't decode byte 0xf5 in position 36: invalid start byte",
     "output_type": "error",
     "traceback": [
      "\u001b[0;31m---------------------------------------------------------------------------\u001b[0m",
      "\u001b[0;31mUnicodeDecodeError\u001b[0m                        Traceback (most recent call last)",
      "\u001b[0;32m<ipython-input-104-f95ad12867df>\u001b[0m in \u001b[0;36m<module>\u001b[0;34m\u001b[0m\n\u001b[1;32m     16\u001b[0m     \u001b[0;31m#print(decrypted_hex_str)\u001b[0m\u001b[0;34m\u001b[0m\u001b[0;34m\u001b[0m\u001b[0;34m\u001b[0m\u001b[0m\n\u001b[1;32m     17\u001b[0m \u001b[0;34m\u001b[0m\u001b[0m\n\u001b[0;32m---> 18\u001b[0;31m     \u001b[0mptxt\u001b[0m \u001b[0;34m=\u001b[0m \u001b[0mbytes\u001b[0m\u001b[0;34m.\u001b[0m\u001b[0mfromhex\u001b[0m\u001b[0;34m(\u001b[0m\u001b[0mdecrypted_hex_str\u001b[0m\u001b[0;34m)\u001b[0m\u001b[0;34m.\u001b[0m\u001b[0mdecode\u001b[0m\u001b[0;34m(\u001b[0m\u001b[0;34m'utf-8'\u001b[0m\u001b[0;34m)\u001b[0m\u001b[0;34m\u001b[0m\u001b[0;34m\u001b[0m\u001b[0m\n\u001b[0m\u001b[1;32m     19\u001b[0m     \u001b[0mscores\u001b[0m\u001b[0;34m.\u001b[0m\u001b[0mappend\u001b[0m\u001b[0;34m(\u001b[0m\u001b[0;34m(\u001b[0m\u001b[0mptxt\u001b[0m\u001b[0;34m,\u001b[0m \u001b[0menglish_score\u001b[0m\u001b[0;34m(\u001b[0m\u001b[0mptxt\u001b[0m\u001b[0;34m)\u001b[0m\u001b[0;34m)\u001b[0m\u001b[0;34m)\u001b[0m\u001b[0;34m\u001b[0m\u001b[0;34m\u001b[0m\u001b[0m\n\u001b[1;32m     20\u001b[0m     \u001b[0mscores2\u001b[0m\u001b[0;34m.\u001b[0m\u001b[0mappend\u001b[0m\u001b[0;34m(\u001b[0m\u001b[0;34m(\u001b[0m\u001b[0mptxt\u001b[0m\u001b[0;34m,\u001b[0m \u001b[0menglish_score2\u001b[0m\u001b[0;34m(\u001b[0m\u001b[0mptxt\u001b[0m\u001b[0;34m)\u001b[0m\u001b[0;34m)\u001b[0m\u001b[0;34m)\u001b[0m\u001b[0;34m\u001b[0m\u001b[0;34m\u001b[0m\u001b[0m\n",
      "\u001b[0;31mUnicodeDecodeError\u001b[0m: 'utf-8' codec can't decode byte 0xf5 in position 36: invalid start byte"
     ]
    }
   ],
   "source": [
    "scores = []\n",
    "scores2 = []\n",
    "for single_byte in range(0,255):\n",
    "    key = chr(single_byte)*num_bytes\n",
    "    # turn string to bytes, to hex string, to int\n",
    "    keyHex = int(key.encode('utf-8').hex(), 16)\n",
    "    \n",
    "    decrypted_hex = encrypted_hex ^ keyHex\n",
    "    \n",
    "    #print(f'{single_byte=}')\n",
    "    #print(decrypted_hex)\n",
    "    \n",
    "    # ensure the length of the hex string matches the length of the\n",
    "    # encrypted bytes, otherwise leading 0s get dropped and cause exceptions\n",
    "    decrypted_hex_str = f'{decrypted_hex:0{num_bytes*2}x}'\n",
    "    #print(decrypted_hex_str)\n",
    "    \n",
    "    ptxt = bytes.fromhex(decrypted_hex_str).decode('utf-8')\n",
    "    scores.append((ptxt, english_score(ptxt)))\n",
    "    scores2.append((ptxt, english_score2(ptxt)))"
   ]
  },
  {
   "cell_type": "code",
   "execution_count": 105,
   "metadata": {},
   "outputs": [
    {
     "name": "stdout",
     "output_type": "stream",
     "text": [
      "(\"Cooking MC's like a pound of bacon\", 13)\n",
      "(\"Dhhlni`'JD t'knlb'f'whric'ha'efdhi\", 11)\n",
      "('Ieeacdm*GI-y*fcao*k*ze\\x7fdn*el*hkied', 9)\n",
      "('Bnnjhof!LB&r!mhjd!`!qntoe!ng!c`bno', 9)\n",
      "('Ammikle\"OA%q\"nkig\"c\"rmwlf\"md\"`caml', 9)\n",
      "('@llhjmd#N@$p#ojhf#b#slvmg#le#ab`lm', 9)\n",
      "('Gkkomjc$IG#w$hmoa$e$tkqj`$kb$fegkj', 9)\n",
      "('Fjjnlkb%HF\"v%iln`%d%ujpka%jc%gdfjk', 9)\n",
      "('Eiimoha&KE!u&jomc&g&vishb&i`&dgeih', 9)\n",
      "('Uyy}\\x7fxq6[U1e6z\\x7f}s6w6fycxr6yp6twuyx', 7)\n",
      "\n",
      "(\"Cooking MC's like a pound of bacon\", 342)\n",
      "('@llhjmd#N@$p#ojhf#b#slvmg#le#ab`lm', 114)\n",
      "('Ammikle\"OA%q\"nkig\"c\"rmwlf\"md\"`caml', 110)\n",
      "(\"Dhhlni`'JD t'knlb'f'whric'ha'efdhi\", 110)\n",
      "('Eiimoha&KE!u&jomc&g&vishb&i`&dgeih', 108)\n",
      "('Gkkomjc$IG#w$hmoa$e$tkqj`$kb$fegkj', 106)\n",
      "('Ieeacdm*GI-y*fcao*k*ze\\x7fdn*el*hkied', 104)\n",
      "('Fjjnlkb%HF\"v%iln`%d%ujpka%jc%gdfjk', 100)\n",
      "('Kggcafo(EK/{(dacm(i(xg}fl(gn(jikgf', 86)\n",
      "('Nbbfdcj-@N*~-adfh-l-}bxci-bk-olnbc', 84)\n"
     ]
    }
   ],
   "source": [
    "def sorter(i):\n",
    "    return i[1]\n",
    "scores.sort(key=sorter, reverse=True)\n",
    "scores2.sort(key=sorter, reverse=True)\n",
    "\n",
    "for tup in scores[:10]:\n",
    "    print(tup)\n",
    "print()\n",
    "for tup in scores2[:10]:\n",
    "    print(tup)\n",
    "    "
   ]
  },
  {
   "cell_type": "code",
   "execution_count": null,
   "metadata": {},
   "outputs": [],
   "source": []
  }
 ],
 "metadata": {
  "kernelspec": {
   "display_name": "Python 3",
   "language": "python",
   "name": "python3"
  },
  "language_info": {
   "codemirror_mode": {
    "name": "ipython",
    "version": 3
   },
   "file_extension": ".py",
   "mimetype": "text/x-python",
   "name": "python",
   "nbconvert_exporter": "python",
   "pygments_lexer": "ipython3",
   "version": "3.8.3"
  }
 },
 "nbformat": 4,
 "nbformat_minor": 4
}
