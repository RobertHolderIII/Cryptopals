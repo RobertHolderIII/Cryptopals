{
 "cells": [
  {
   "cell_type": "code",
   "execution_count": 19,
   "metadata": {},
   "outputs": [
    {
     "name": "stdout",
     "output_type": "stream",
     "text": [
      "\n",
      "text = 'hello'\n",
      "text.encode('utf-8') = b'hello'\n",
      "text.encode('utf-8').hex() = '68656c6c6f'\n",
      "int(text.encode('utf-8').hex(), 16) = 448378203247\n",
      "f\"{int(text.encode('utf-8').hex(), 16):x}\" = '68656c6c6f'\n",
      "\n",
      "hex_text = '68656c6c6f'\n",
      "bytes.fromhex(hex_text) = b'hello'\n",
      "\n",
      "int_val = 448378203247\n",
      "f\"{int_val:x}\"='68656c6c6f'\n",
      "\n",
      "\n"
     ]
    }
   ],
   "source": [
    "text = 'hello'\n",
    "hex_text = '68656c6c6f'\n",
    "int_val = 448378203247\n",
    "\n",
    "out = f\"\"\"\n",
    "{text = }\n",
    "{text.encode('utf-8') = }\n",
    "{text.encode('utf-8').hex() = }\n",
    "{int(text.encode('utf-8').hex(), 16) = }\n",
    "{f\"{int(text.encode('utf-8').hex(), 16):x}\" = }\n",
    "\n",
    "{hex_text = }\n",
    "{bytes.fromhex(hex_text) = }\n",
    "\n",
    "{int_val = }\n",
    "{f\"{int_val:x}\"=}\n",
    "\n",
    "\"\"\"\n",
    "\n",
    "print(out)"
   ]
  },
  {
   "cell_type": "code",
   "execution_count": null,
   "metadata": {},
   "outputs": [],
   "source": []
  },
  {
   "cell_type": "code",
   "execution_count": 14,
   "metadata": {},
   "outputs": [
    {
     "data": {
      "text/plain": [
       "'0x68656c6c6f'"
      ]
     },
     "execution_count": 14,
     "metadata": {},
     "output_type": "execute_result"
    }
   ],
   "source": [
    "hex(448378203247)"
   ]
  },
  {
   "cell_type": "code",
   "execution_count": 23,
   "metadata": {},
   "outputs": [
    {
     "name": "stdout",
     "output_type": "stream",
     "text": [
      "key='\\x7f'\n",
      "key.encode('utf-8')=b'\\x7f'\n",
      "keyHex=127\n",
      "key='\\x80'\n",
      "key.encode('utf-8')=b'\\xc2\\x80'\n",
      "keyHex=49792\n"
     ]
    }
   ],
   "source": [
    "for b in [127,128]:\n",
    "    key = chr(b)\n",
    "    print(f'{key=}')\n",
    "    print(f\"{key.encode('utf-8')=}\")\n",
    "    keyHex = int(key.encode('utf-8').hex(), 16)\n",
    "    print(f'{keyHex=}')"
   ]
  },
  {
   "cell_type": "code",
   "execution_count": 25,
   "metadata": {},
   "outputs": [
    {
     "data": {
      "text/plain": [
       "b'\\x80\\x80\\x80\\x80\\x80\\x80\\x80\\x80\\x80\\x80\\x80\\x80\\x80\\x80\\x80\\x80\\x80\\x80\\x80\\x80\\x80\\x80\\x80\\x80\\x80\\x80\\x80\\x80\\x80\\x80\\x80\\x80\\x80\\x80'"
      ]
     },
     "execution_count": 25,
     "metadata": {},
     "output_type": "execute_result"
    }
   ],
   "source": [
    "bytes([128] * 34)"
   ]
  },
  {
   "cell_type": "code",
   "execution_count": 26,
   "metadata": {},
   "outputs": [
    {
     "data": {
      "text/plain": [
       "'\\x80'"
      ]
     },
     "execution_count": 26,
     "metadata": {},
     "output_type": "execute_result"
    }
   ],
   "source": [
    "chr(128)"
   ]
  },
  {
   "cell_type": "code",
   "execution_count": 28,
   "metadata": {},
   "outputs": [
    {
     "ename": "TypeError",
     "evalue": "unsupported operand type(s) for ^: 'bytes' and 'bytes'",
     "output_type": "error",
     "traceback": [
      "\u001b[0;31m---------------------------------------------------------------------------\u001b[0m",
      "\u001b[0;31mTypeError\u001b[0m                                 Traceback (most recent call last)",
      "\u001b[0;32m<ipython-input-28-8efb513dd483>\u001b[0m in \u001b[0;36m<module>\u001b[0;34m\u001b[0m\n\u001b[0;32m----> 1\u001b[0;31m \u001b[0;34mb'a'\u001b[0m \u001b[0;34m^\u001b[0m \u001b[0;34mb'b'\u001b[0m\u001b[0;34m\u001b[0m\u001b[0;34m\u001b[0m\u001b[0m\n\u001b[0m",
      "\u001b[0;31mTypeError\u001b[0m: unsupported operand type(s) for ^: 'bytes' and 'bytes'"
     ]
    }
   ],
   "source": []
  }
 ],
 "metadata": {
  "kernelspec": {
   "display_name": "Python 3",
   "language": "python",
   "name": "python3"
  },
  "language_info": {
   "codemirror_mode": {
    "name": "ipython",
    "version": 3
   },
   "file_extension": ".py",
   "mimetype": "text/x-python",
   "name": "python",
   "nbconvert_exporter": "python",
   "pygments_lexer": "ipython3",
   "version": "3.8.3"
  }
 },
 "nbformat": 4,
 "nbformat_minor": 4
}
