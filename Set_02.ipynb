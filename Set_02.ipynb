{
 "cells": [
  {
   "cell_type": "markdown",
   "metadata": {},
   "source": [
    "### Challenge 9"
   ]
  },
  {
   "cell_type": "code",
   "execution_count": 6,
   "metadata": {},
   "outputs": [],
   "source": [
    "def pad_pkcs7(message: bytes, block_size: int) -> bytes:\n",
    "    pad_len = block_size - len(message) % block_size\n",
    "    return message + b'\\x04' * pad_len\n",
    "    \n",
    "assert pad_pkcs7('YELLOW SUBMARINE'.encode(), 20).decode() == \"YELLOW SUBMARINE\\x04\\x04\\x04\\x04\""
   ]
  },
  {
   "cell_type": "markdown",
   "metadata": {},
   "source": [
    "### Challenge 10"
   ]
  },
  {
   "cell_type": "code",
   "execution_count": 31,
   "metadata": {},
   "outputs": [
    {
     "data": {
      "text/plain": [
       "b'\\x01\\x00'"
      ]
     },
     "execution_count": 31,
     "metadata": {},
     "output_type": "execute_result"
    }
   ],
   "source": [
    "from Crypto.Cipher import AES\n",
    "\n",
    "def ensure_bytes(inp):\n",
    "    return inp.encode() if type(inp) == str else inp\n",
    "\n",
    "def xor(a, b):\n",
    "    assert len(a) == len(b)\n",
    "    out = b''\n",
    "    for a_bit, b_bit in zip(a,b):\n",
    "        out += bytes([a_bit ^ b_bit])\n",
    "    return out\n",
    "\n",
    "xor(b'\\x00\\x01', b'\\x01\\x01')"
   ]
  },
  {
   "cell_type": "code",
   "execution_count": 38,
   "metadata": {},
   "outputs": [],
   "source": [
    "def aes_cbc_encrpyt(iv, key, ptxt):\n",
    "    iv = ensure_bytes(iv)\n",
    "    key = ensure_bytes(key)\n",
    "    ptxt = ensure_bytes(ptxt)\n",
    "\n",
    "    padded_ptxt = pad_pkcs7(ptxt, len(key))\n",
    "    cipher = AES.new(key, AES.MODE_ECB)\n",
    "    \n",
    "    out = [iv]\n",
    "    for st in range(0,len(padded_ptxt),len(key)):\n",
    "        blk = padded_ptxt[st:st+len(key)]\n",
    "        out.append(cipher.encrypt(xor(out[-1], blk)))\n",
    "    ctxt = out[1:]\n",
    "    return b''.join(ctxt)\n",
    "\n",
    "def aes_cbc_decrpyt(iv, key, ctxt):\n",
    "    iv = ensure_bytes(iv)\n",
    "    key = ensure_bytes(key)\n",
    "    \n",
    "    cipher = AES.new(key, AES.MODE_ECB)\n",
    "    \n",
    "    out = [iv]\n",
    "    for st in range(0, len(ctxt), len(key)):\n",
    "        blk = ctxt[st: st+len(key)]\n",
    "        out.append(xor(cipher.decrypt(blk), out[-1]))\n",
    "    ptxt = out[1:]\n",
    "    return b''.join(ptxt)"
   ]
  },
  {
   "cell_type": "code",
   "execution_count": 44,
   "metadata": {},
   "outputs": [
    {
     "data": {
      "text/plain": [
       "b'1gZ\\xc4\\xc0zr\\xa4\\x04\\xc6\\xa9W\\x80\\xa5\\xd6\\x9e7}\\xc0\\x14=&\\x1b\\xafz\\x0b\\xedn\\xfd\\x0b\\x846'"
      ]
     },
     "execution_count": 44,
     "metadata": {},
     "output_type": "execute_result"
    }
   ],
   "source": [
    "key = b'YELLOW SUBMARINE'\n",
    "iv = b'0'*len(key)\n",
    "msg = b'this is a test message'[:16]\n",
    "ctxt = aes_cbc_encrpyt(iv, key, msg)\n",
    "ctxt"
   ]
  },
  {
   "cell_type": "code",
   "execution_count": 45,
   "metadata": {},
   "outputs": [
    {
     "data": {
      "text/plain": [
       "b'this is a test mA\\x0b7\\xb3\\xe4\\x17\\x05\\x80a\\xe2\\xd96\\xf7\\xd5\\xf2\\xf7'"
      ]
     },
     "execution_count": 45,
     "metadata": {},
     "output_type": "execute_result"
    }
   ],
   "source": [
    "aes_cbc_decrpyt(iv, key, ctxt)"
   ]
  },
  {
   "cell_type": "code",
   "execution_count": null,
   "metadata": {},
   "outputs": [],
   "source": []
  }
 ],
 "metadata": {
  "kernelspec": {
   "display_name": "Python 3",
   "language": "python",
   "name": "python3"
  },
  "language_info": {
   "codemirror_mode": {
    "name": "ipython",
    "version": 3
   },
   "file_extension": ".py",
   "mimetype": "text/x-python",
   "name": "python",
   "nbconvert_exporter": "python",
   "pygments_lexer": "ipython3",
   "version": "3.8.3"
  }
 },
 "nbformat": 4,
 "nbformat_minor": 4
}
